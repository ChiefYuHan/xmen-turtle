{
 "cells": [
  {
   "cell_type": "code",
   "execution_count": 1,
   "metadata": {},
   "outputs": [],
   "source": [
    "import os\n",
    "os.environ['TOKENIZERS_PARALLELISM'] = 'false'\n",
    "os.environ['CUDA_VISIBLE_DEVICES'] = '0'"
   ]
  },
  {
   "cell_type": "code",
   "execution_count": 2,
   "metadata": {},
   "outputs": [],
   "source": [
    "import sys\n",
    "sys.path.insert(0, '..')"
   ]
  },
  {
   "cell_type": "code",
   "execution_count": 3,
   "metadata": {},
   "outputs": [],
   "source": [
    "from pathlib import Path"
   ]
  },
  {
   "cell_type": "code",
   "execution_count": 4,
   "metadata": {},
   "outputs": [],
   "source": [
    "from xmen.evaluation import entity_linking_error_analysis, evaluate_at_k\n",
    "from xmen.linkers.util import filter_and_apply_threshold"
   ]
  },
  {
   "cell_type": "code",
   "execution_count": 5,
   "metadata": {},
   "outputs": [],
   "source": [
    "from xmen.confhelper import load_config\n",
    "config = load_config('../conf/distemist.yaml')\n",
    "base_path = Path(config.cache_dir)\n",
    "tmp_path = Path('..') / 'temp'"
   ]
  },
  {
   "cell_type": "code",
   "execution_count": 6,
   "metadata": {},
   "outputs": [
    {
     "name": "stderr",
     "output_type": "stream",
     "text": [
      "Using the latest cached version of the module from /home/Florian.Borchert/.cache/huggingface/modules/datasets_modules/datasets/distemist/f63b2c6775932c342d7bff59d751d6139c0c52c5255f7fbb3e458d255728a8dd (last modified on Thu Apr 20 13:14:35 2023) since it couldn't be found locally at distemist., or remotely on the Hugging Face Hub.\n",
      "Found cached dataset distemist (/home/Florian.Borchert/.cache/huggingface/datasets/distemist/distemist_linking_bigbio_kb/1.0.0/f63b2c6775932c342d7bff59d751d6139c0c52c5255f7fbb3e458d255728a8dd)\n"
     ]
    },
    {
     "data": {
      "application/vnd.jupyter.widget-view+json": {
       "model_id": "58b85f11e0ca47b8a386792a51e133f2",
       "version_major": 2,
       "version_minor": 0
      },
      "text/plain": [
       "  0%|          | 0/2 [00:00<?, ?it/s]"
      ]
     },
     "metadata": {},
     "output_type": "display_data"
    },
    {
     "name": "stderr",
     "output_type": "stream",
     "text": [
      "Loading cached processed dataset at /home/Florian.Borchert/.cache/huggingface/datasets/distemist/distemist_linking_bigbio_kb/1.0.0/f63b2c6775932c342d7bff59d751d6139c0c52c5255f7fbb3e458d255728a8dd/cache-c51f74b0be31bc1c.arrow\n",
      "Loading cached processed dataset at /home/Florian.Borchert/.cache/huggingface/datasets/distemist/distemist_linking_bigbio_kb/1.0.0/f63b2c6775932c342d7bff59d751d6139c0c52c5255f7fbb3e458d255728a8dd/cache-2b861d41b461ff1b.arrow\n"
     ]
    },
    {
     "data": {
      "text/plain": [
       "DatasetDict({\n",
       "    train: Dataset({\n",
       "        features: ['id', 'document_id', 'passages', 'entities', 'events', 'coreferences', 'relations'],\n",
       "        num_rows: 466\n",
       "    })\n",
       "    test: Dataset({\n",
       "        features: ['id', 'document_id', 'passages', 'entities', 'events', 'coreferences', 'relations'],\n",
       "        num_rows: 250\n",
       "    })\n",
       "    validation: Dataset({\n",
       "        features: ['id', 'document_id', 'passages', 'entities', 'events', 'coreferences', 'relations'],\n",
       "        num_rows: 117\n",
       "    })\n",
       "})"
      ]
     },
     "execution_count": 6,
     "metadata": {},
     "output_type": "execute_result"
    }
   ],
   "source": [
    "import datasets\n",
    "\n",
    "ds = datasets.load_dataset('distemist', 'distemist_linking_bigbio_kb')\n",
    "\n",
    "# Own validation set (20% of distemist training set / EL sub-track)\n",
    "with open('distemist_validation_docs.txt', 'r') as fh:\n",
    "    valid_ids = [l.strip() for l in fh.readlines()]\n",
    "    \n",
    "ds_train = ds['train'].filter(lambda d: d['document_id'] not in valid_ids)\n",
    "ds_valid = ds['train'].filter(lambda d: d['document_id'] in valid_ids)\n",
    "\n",
    "ds['train'] = ds_train\n",
    "ds['validation'] = ds_valid\n",
    "\n",
    "ds"
   ]
  },
  {
   "cell_type": "markdown",
   "metadata": {
    "tags": []
   },
   "source": [
    "# Preparation - Just run once\n",
    "\n",
    "__Note__: This is a bit more involved, because we dynamically explore different combinations of DisTEMIST gazetteer and UMLS subsets.\n",
    "\n",
    "In most normal cases, you just want to configure the target dictionary in your .yaml file and run `xmen dict` and `xmen index` with default settings."
   ]
  },
  {
   "cell_type": "markdown",
   "metadata": {},
   "source": [
    "## Download Distemist gazetteer"
   ]
  },
  {
   "cell_type": "code",
   "execution_count": null,
   "metadata": {},
   "outputs": [],
   "source": [
    "!mkdir -p ../temp; wget https://zenodo.org/record/6505583/files/dictionary_distemist.tsv?download=0 -O ../temp/dictionary_distemist.tsv"
   ]
  },
  {
   "cell_type": "markdown",
   "metadata": {},
   "source": [
    "## Setup dictionaries"
   ]
  },
  {
   "cell_type": "markdown",
   "metadata": {},
   "source": [
    "Since the DisTEMIST Task only covers a subset of SNOMED CT codes, we retrieve only additional synonyms for the UMLS for these codes.\n",
    "Thus, we need to map CUIs to SNOMED CT IDs and merge them with the DisTEMIST gazetteer."
   ]
  },
  {
   "cell_type": "code",
   "execution_count": null,
   "metadata": {},
   "outputs": [],
   "source": [
    "dict_configs = ['distemist_gazetteer', 'distemist_umls_es', 'distemist_umls_en_es', 'distemist_umls_all'] "
   ]
  },
  {
   "cell_type": "code",
   "execution_count": null,
   "metadata": {},
   "outputs": [],
   "source": [
    "from IPython.display import Markdown, display\n",
    "\n",
    "# Run these commands from the root folder\n",
    "for d in dict_configs:\n",
    "    display(Markdown(f\"`xmen dict conf/distemist.yaml --code dicts/distemist.py --key {d}`\"))"
   ]
  },
  {
   "cell_type": "code",
   "execution_count": null,
   "metadata": {},
   "outputs": [],
   "source": [
    "meta_path = Path(config.umls_meta_path)"
   ]
  },
  {
   "cell_type": "code",
   "execution_count": null,
   "metadata": {},
   "outputs": [],
   "source": [
    "from xmen.umls import umls_utils\n",
    "from collections import defaultdict\n",
    "from tqdm.auto import tqdm\n",
    "\n",
    "def read_cui2snomed_mapping(meta_path):\n",
    "    mrconso = 'MRCONSO.RRF'\n",
    "    cui2snomed = defaultdict(list)\n",
    "    headers = umls_utils.read_umls_file_headers(meta_path, mrconso)\n",
    "    with open(f\"{meta_path}/{mrconso}\") as fin:\n",
    "        for line in tqdm(fin.readlines()):\n",
    "            splits = line.strip().split(\"|\")\n",
    "            assert len(headers) == len(splits)\n",
    "            concept = dict(zip(headers, splits))\n",
    "            if concept['SAB'] in ['SNOMEDCT_US', 'SCTSPA']:\n",
    "                cui2snomed[concept['CUI']].append(concept['SCUI'])\n",
    "    return cui2snomed"
   ]
  },
  {
   "cell_type": "code",
   "execution_count": null,
   "metadata": {},
   "outputs": [],
   "source": [
    "cui2snomed_mapping = read_cui2snomed_mapping(meta_path)"
   ]
  },
  {
   "cell_type": "code",
   "execution_count": null,
   "metadata": {},
   "outputs": [],
   "source": [
    "import json\n",
    "from tqdm.auto import tqdm\n",
    "from xmen.knowledge_base import CompositeKnowledgebase\n",
    "\n",
    "def cui2snomed(entry):\n",
    "    res = []\n",
    "    cui = entry['concept_id']\n",
    "    for sctid in cui2snomed_mapping[cui]:\n",
    "        r = entry.copy()\n",
    "        r['concept_id'] = sctid\n",
    "        res.append(r)\n",
    "    return res\n",
    "\n",
    "def merge_and_write_dicts(target_jsonl, added_jsonl, output_jsonl):\n",
    "    print(f'Writing to {output_jsonl}')\n",
    "    output_jsonl.parent.mkdir(exist_ok=True, parents=True)\n",
    "    cui_count = alias_count = 0\n",
    "    kb = CompositeKnowledgebase([added_jsonl], mappers=[cui2snomed])\n",
    "    with open(output_jsonl, 'w') as fo:\n",
    "        for l in tqdm(list(open(target_jsonl).readlines())):\n",
    "            cui_count += 1\n",
    "            entry = json.loads(l)\n",
    "            sctid = str(entry['concept_id'])\n",
    "            concept = kb.cui_to_entity[sctid]\n",
    "            known_aliases = [entry['canonical_name']] + entry['aliases']\n",
    "            new_aliases = [c for c in [concept.canonical_name] + concept.aliases if c not in known_aliases]\n",
    "            entry['aliases'] += new_aliases\n",
    "            alias_count += len(entry['aliases'])\n",
    "            fo.write(json.dumps(entry) + '\\n')\n",
    "    print(f'Written {cui_count} concepts with {alias_count} aliases')"
   ]
  },
  {
   "cell_type": "code",
   "execution_count": null,
   "metadata": {},
   "outputs": [],
   "source": [
    "for d in dict_configs[1:]:\n",
    "    merge_and_write_dicts(distemist_gazetteer_jsonl, base_path / d / f'{d}.jsonl', base_path / 'distemist' / 'merged' / f'{d}.jsonl')"
   ]
  },
  {
   "cell_type": "markdown",
   "metadata": {},
   "source": [
    "## Prepare TF-IDF NGram and SapBERT indices for all configurations"
   ]
  },
  {
   "cell_type": "code",
   "execution_count": null,
   "metadata": {},
   "outputs": [],
   "source": [
    "# Run these commands from the root folder\n",
    "display(Markdown(f\"`xmen index conf/distemist.yaml --dict {base_path / 'distemist_gazetteer' / 'distemist_gazetteer.jsonl'} --output {base_path / 'distemist' / 'merged' / 'distemist_gazetteer'} --all`\"))\n",
    "for d in dict_configs[1:]:\n",
    "    display(Markdown(f\"`xmen index conf/distemist.yaml --dict {base_path / 'distemist' / 'merged' / f'{d}.jsonl'} --output {base_path / 'distemist' / 'merged' / f'{d}'} --all`\"))"
   ]
  },
  {
   "cell_type": "markdown",
   "metadata": {
    "tags": []
   },
   "source": [
    "# Candidate Generation"
   ]
  },
  {
   "cell_type": "code",
   "execution_count": 10,
   "metadata": {},
   "outputs": [],
   "source": [
    "embedding_model_name = 'cambridgeltl/SapBERT-UMLS-2020AB-all-lang-from-XLMR'\n",
    "dict_config = 'distemist_umls_en_es'"
   ]
  },
  {
   "cell_type": "code",
   "execution_count": 11,
   "metadata": {},
   "outputs": [],
   "source": [
    "from notebook_util import analyze\n",
    "from xmen.linkers import TFIDFNGramLinker, SapBERTLinker, EnsembleLinker\n",
    "from xmen.linkers.util import filter_and_apply_threshold\n",
    "from datasets import DatasetDict"
   ]
  },
  {
   "cell_type": "code",
   "execution_count": 12,
   "metadata": {},
   "outputs": [],
   "source": [
    "index_base_path = base_path / 'distemist' / 'merged' / dict_config / 'index'"
   ]
  },
  {
   "cell_type": "markdown",
   "metadata": {},
   "source": [
    "#### TF-IDF over character n-grams"
   ]
  },
  {
   "cell_type": "code",
   "execution_count": 16,
   "metadata": {},
   "outputs": [
    {
     "data": {
      "application/vnd.jupyter.widget-view+json": {
       "model_id": "",
       "version_major": 2,
       "version_minor": 0
      },
      "text/plain": [
       "Map:   0%|          | 0/466 [00:00<?, ? examples/s]"
      ]
     },
     "metadata": {},
     "output_type": "display_data"
    },
    {
     "data": {
      "application/vnd.jupyter.widget-view+json": {
       "model_id": "",
       "version_major": 2,
       "version_minor": 0
      },
      "text/plain": [
       "Map:   0%|          | 0/250 [00:00<?, ? examples/s]"
      ]
     },
     "metadata": {},
     "output_type": "display_data"
    },
    {
     "data": {
      "application/vnd.jupyter.widget-view+json": {
       "model_id": "",
       "version_major": 2,
       "version_minor": 0
      },
      "text/plain": [
       "Map:   0%|          | 0/117 [00:00<?, ? examples/s]"
      ]
     },
     "metadata": {},
     "output_type": "display_data"
    },
    {
     "data": {
      "application/vnd.jupyter.widget-view+json": {
       "model_id": "",
       "version_major": 2,
       "version_minor": 0
      },
      "text/plain": [
       "Saving the dataset (0/1 shards):   0%|          | 0/466 [00:00<?, ? examples/s]"
      ]
     },
     "metadata": {},
     "output_type": "display_data"
    },
    {
     "data": {
      "application/vnd.jupyter.widget-view+json": {
       "model_id": "",
       "version_major": 2,
       "version_minor": 0
      },
      "text/plain": [
       "Saving the dataset (0/1 shards):   0%|          | 0/250 [00:00<?, ? examples/s]"
      ]
     },
     "metadata": {},
     "output_type": "display_data"
    },
    {
     "data": {
      "application/vnd.jupyter.widget-view+json": {
       "model_id": "",
       "version_major": 2,
       "version_minor": 0
      },
      "text/plain": [
       "Saving the dataset (0/1 shards):   0%|          | 0/117 [00:00<?, ? examples/s]"
      ]
     },
     "metadata": {},
     "output_type": "display_data"
    }
   ],
   "source": [
    "ngram_linker = TFIDFNGramLinker(index_base_path=index_base_path / 'ngrams', k=100)\n",
    "pred_ngram = ngram_linker.predict_batch(ds)\n",
    "pred_ngram.save_to_disk(tmp_path / dict_config / 'pred_ngram')"
   ]
  },
  {
   "cell_type": "code",
   "execution_count": 17,
   "metadata": {},
   "outputs": [
    {
     "name": "stdout",
     "output_type": "stream",
     "text": [
      "Perf@1 0.28599801390268126\n",
      "Perf@2 0.4141012909632572\n",
      "Perf@4 0.5858987090367428\n",
      "Perf@8 0.6732869910625621\n",
      "Perf@16 0.7209533267130089\n",
      "Perf@32 0.7616683217477657\n",
      "Perf@64 0.7974180734856008\n"
     ]
    }
   ],
   "source": [
    "_ = evaluate_at_k(ds['validation'], pred_ngram['validation'])"
   ]
  },
  {
   "cell_type": "markdown",
   "metadata": {},
   "source": [
    "#### Dense Retrieval with SapBERT"
   ]
  },
  {
   "cell_type": "code",
   "execution_count": 18,
   "metadata": {},
   "outputs": [
    {
     "data": {
      "text/html": [
       "<pre style=\"white-space:pre;overflow-x:auto;line-height:normal;font-family:Menlo,'DejaVu Sans Mono',consolas,'Courier New',monospace\"><span style=\"color: #7fbfbf; text-decoration-color: #7fbfbf\">[05/08/23 19:13:30] </span><span style=\"color: #000080; text-decoration-color: #000080\">INFO    </span> Loading hierarchical faiss index                                <a href=\"file:///mnt/nfs/home/Florian.Borchert/workspace/xmen/notebooks/../xmen/linkers/sap_bert_linker.py\" target=\"_blank\"><span style=\"color: #7f7f7f; text-decoration-color: #7f7f7f\">sap_bert_linker.py</span></a><span style=\"color: #7f7f7f; text-decoration-color: #7f7f7f\">:</span><a href=\"file:///mnt/nfs/home/Florian.Borchert/workspace/xmen/notebooks/../xmen/linkers/sap_bert_linker.py#116\" target=\"_blank\"><span style=\"color: #7f7f7f; text-decoration-color: #7f7f7f\">116</span></a>\n",
       "</pre>\n"
      ],
      "text/plain": [
       "\u001b[2;36m[05/08/23 19:13:30]\u001b[0m\u001b[2;36m \u001b[0m\u001b[34mINFO    \u001b[0m Loading hierarchical faiss index                                \u001b]8;id=319479;file:///mnt/nfs/home/Florian.Borchert/workspace/xmen/notebooks/../xmen/linkers/sap_bert_linker.py\u001b\\\u001b[2msap_bert_linker.py\u001b[0m\u001b]8;;\u001b\\\u001b[2m:\u001b[0m\u001b]8;id=815753;file:///mnt/nfs/home/Florian.Borchert/workspace/xmen/notebooks/../xmen/linkers/sap_bert_linker.py#116\u001b\\\u001b[2m116\u001b[0m\u001b]8;;\u001b\\\n"
      ]
     },
     "metadata": {},
     "output_type": "display_data"
    },
    {
     "data": {
      "text/html": [
       "<pre style=\"white-space:pre;overflow-x:auto;line-height:normal;font-family:Menlo,'DejaVu Sans Mono',consolas,'Courier New',monospace\"><span style=\"color: #7fbfbf; text-decoration-color: #7fbfbf\">                    </span><span style=\"color: #000080; text-decoration-color: #000080\">INFO    </span> Loading index from                                                 <a href=\"file:///mnt/nfs/home/Florian.Borchert/workspace/xmen/notebooks/../xmen/linkers/faiss_indexer.py\" target=\"_blank\"><span style=\"color: #7f7f7f; text-decoration-color: #7f7f7f\">faiss_indexer.py</span></a><span style=\"color: #7f7f7f; text-decoration-color: #7f7f7f\">:</span><a href=\"file:///mnt/nfs/home/Florian.Borchert/workspace/xmen/notebooks/../xmen/linkers/faiss_indexer.py#73\" target=\"_blank\"><span style=\"color: #7f7f7f; text-decoration-color: #7f7f7f\">73</span></a>\n",
       "<span style=\"color: #7fbfbf; text-decoration-color: #7fbfbf\">                    </span>         <span style=\"color: #800080; text-decoration-color: #800080\">/home/Florian.Borchert/.cache/xmen/distemist/merged/distemist_umls</span> <span style=\"color: #7f7f7f; text-decoration-color: #7f7f7f\">                   </span>\n",
       "<span style=\"color: #7fbfbf; text-decoration-color: #7fbfbf\">                    </span>         <span style=\"color: #800080; text-decoration-color: #800080\">_en_es/index/sapbert/</span><span style=\"color: #ff00ff; text-decoration-color: #ff00ff\">embed_faiss_hier.pickle</span>                       <span style=\"color: #7f7f7f; text-decoration-color: #7f7f7f\">                   </span>\n",
       "</pre>\n"
      ],
      "text/plain": [
       "\u001b[2;36m                   \u001b[0m\u001b[2;36m \u001b[0m\u001b[34mINFO    \u001b[0m Loading index from                                                 \u001b]8;id=375339;file:///mnt/nfs/home/Florian.Borchert/workspace/xmen/notebooks/../xmen/linkers/faiss_indexer.py\u001b\\\u001b[2mfaiss_indexer.py\u001b[0m\u001b]8;;\u001b\\\u001b[2m:\u001b[0m\u001b]8;id=387763;file:///mnt/nfs/home/Florian.Borchert/workspace/xmen/notebooks/../xmen/linkers/faiss_indexer.py#73\u001b\\\u001b[2m73\u001b[0m\u001b]8;;\u001b\\\n",
       "\u001b[2;36m                    \u001b[0m         \u001b[35m/home/Florian.Borchert/.cache/xmen/distemist/merged/distemist_umls\u001b[0m \u001b[2m                   \u001b[0m\n",
       "\u001b[2;36m                    \u001b[0m         \u001b[35m_en_es/index/sapbert/\u001b[0m\u001b[95membed_faiss_hier.pickle\u001b[0m                       \u001b[2m                   \u001b[0m\n"
      ]
     },
     "metadata": {},
     "output_type": "display_data"
    },
    {
     "data": {
      "text/html": [
       "<pre style=\"white-space:pre;overflow-x:auto;line-height:normal;font-family:Menlo,'DejaVu Sans Mono',consolas,'Courier New',monospace\"><span style=\"color: #7fbfbf; text-decoration-color: #7fbfbf\">[05/08/23 19:13:32] </span><span style=\"color: #000080; text-decoration-color: #000080\">INFO    </span> Loaded index of type <span style=\"font-weight: bold\">&lt;</span><span style=\"color: #ff00ff; text-decoration-color: #ff00ff; font-weight: bold\">class</span><span style=\"color: #000000; text-decoration-color: #000000\"> </span><span style=\"color: #008000; text-decoration-color: #008000\">'faiss.swigfaiss.IndexHNSWFlat'</span><span style=\"font-weight: bold\">&gt;</span> and   <a href=\"file:///mnt/nfs/home/Florian.Borchert/workspace/xmen/notebooks/../xmen/linkers/faiss_indexer.py\" target=\"_blank\"><span style=\"color: #7f7f7f; text-decoration-color: #7f7f7f\">faiss_indexer.py</span></a><span style=\"color: #7f7f7f; text-decoration-color: #7f7f7f\">:</span><a href=\"file:///mnt/nfs/home/Florian.Borchert/workspace/xmen/notebooks/../xmen/linkers/faiss_indexer.py#75\" target=\"_blank\"><span style=\"color: #7f7f7f; text-decoration-color: #7f7f7f\">75</span></a>\n",
       "<span style=\"color: #7fbfbf; text-decoration-color: #7fbfbf\">                    </span>         size <span style=\"color: #008080; text-decoration-color: #008080; font-weight: bold\">1518833</span>                                                       <span style=\"color: #7f7f7f; text-decoration-color: #7f7f7f\">                   </span>\n",
       "</pre>\n"
      ],
      "text/plain": [
       "\u001b[2;36m[05/08/23 19:13:32]\u001b[0m\u001b[2;36m \u001b[0m\u001b[34mINFO    \u001b[0m Loaded index of type \u001b[1m<\u001b[0m\u001b[1;95mclass\u001b[0m\u001b[39m \u001b[0m\u001b[32m'faiss.swigfaiss.IndexHNSWFlat'\u001b[0m\u001b[1m>\u001b[0m and   \u001b]8;id=622698;file:///mnt/nfs/home/Florian.Borchert/workspace/xmen/notebooks/../xmen/linkers/faiss_indexer.py\u001b\\\u001b[2mfaiss_indexer.py\u001b[0m\u001b]8;;\u001b\\\u001b[2m:\u001b[0m\u001b]8;id=465372;file:///mnt/nfs/home/Florian.Borchert/workspace/xmen/notebooks/../xmen/linkers/faiss_indexer.py#75\u001b\\\u001b[2m75\u001b[0m\u001b]8;;\u001b\\\n",
       "\u001b[2;36m                    \u001b[0m         size \u001b[1;36m1518833\u001b[0m                                                       \u001b[2m                   \u001b[0m\n"
      ]
     },
     "metadata": {},
     "output_type": "display_data"
    },
    {
     "data": {
      "application/vnd.jupyter.widget-view+json": {
       "model_id": "",
       "version_major": 2,
       "version_minor": 0
      },
      "text/plain": [
       "Map:   0%|          | 0/466 [00:00<?, ? examples/s]"
      ]
     },
     "metadata": {},
     "output_type": "display_data"
    },
    {
     "data": {
      "application/vnd.jupyter.widget-view+json": {
       "model_id": "",
       "version_major": 2,
       "version_minor": 0
      },
      "text/plain": [
       "Map:   0%|          | 0/250 [00:00<?, ? examples/s]"
      ]
     },
     "metadata": {},
     "output_type": "display_data"
    },
    {
     "data": {
      "application/vnd.jupyter.widget-view+json": {
       "model_id": "",
       "version_major": 2,
       "version_minor": 0
      },
      "text/plain": [
       "Map:   0%|          | 0/117 [00:00<?, ? examples/s]"
      ]
     },
     "metadata": {},
     "output_type": "display_data"
    },
    {
     "data": {
      "application/vnd.jupyter.widget-view+json": {
       "model_id": "",
       "version_major": 2,
       "version_minor": 0
      },
      "text/plain": [
       "Saving the dataset (0/1 shards):   0%|          | 0/466 [00:00<?, ? examples/s]"
      ]
     },
     "metadata": {},
     "output_type": "display_data"
    },
    {
     "data": {
      "application/vnd.jupyter.widget-view+json": {
       "model_id": "",
       "version_major": 2,
       "version_minor": 0
      },
      "text/plain": [
       "Saving the dataset (0/1 shards):   0%|          | 0/250 [00:00<?, ? examples/s]"
      ]
     },
     "metadata": {},
     "output_type": "display_data"
    },
    {
     "data": {
      "application/vnd.jupyter.widget-view+json": {
       "model_id": "",
       "version_major": 2,
       "version_minor": 0
      },
      "text/plain": [
       "Saving the dataset (0/1 shards):   0%|          | 0/117 [00:00<?, ? examples/s]"
      ]
     },
     "metadata": {},
     "output_type": "display_data"
    }
   ],
   "source": [
    "# Clear singleton to free up memory\n",
    "SapBERTLinker.clear()\n",
    "# Initialize linker from config\n",
    "sapbert_linker = SapBERTLinker(\n",
    "    embedding_model_name = embedding_model_name,\n",
    "    index_base_path = index_base_path / 'sapbert',\n",
    "    k = 1000\n",
    ")\n",
    "\n",
    "pred_sapbert = sapbert_linker.predict_batch(ds, batch_size=128)\n",
    "pred_sapbert.save_to_disk(tmp_path / dict_config / 'pred_sapbert')"
   ]
  },
  {
   "cell_type": "code",
   "execution_count": 19,
   "metadata": {},
   "outputs": [
    {
     "name": "stdout",
     "output_type": "stream",
     "text": [
      "Perf@1 0.3634558093346574\n",
      "Perf@2 0.5243296921549155\n",
      "Perf@4 0.6593843098311817\n",
      "Perf@8 0.7437934458788481\n",
      "Perf@16 0.7864945382323734\n",
      "Perf@32 0.8083416087388282\n",
      "Perf@64 0.8262164846077458\n"
     ]
    }
   ],
   "source": [
    "_ = evaluate_at_k(ds['validation'], pred_sapbert['validation'])"
   ]
  },
  {
   "cell_type": "markdown",
   "metadata": {},
   "source": [
    "#### Ensemble"
   ]
  },
  {
   "cell_type": "code",
   "execution_count": 20,
   "metadata": {},
   "outputs": [
    {
     "data": {
      "application/vnd.jupyter.widget-view+json": {
       "model_id": "",
       "version_major": 2,
       "version_minor": 0
      },
      "text/plain": [
       "Map:   0%|          | 0/466 [00:00<?, ? examples/s]"
      ]
     },
     "metadata": {},
     "output_type": "display_data"
    },
    {
     "data": {
      "application/vnd.jupyter.widget-view+json": {
       "model_id": "",
       "version_major": 2,
       "version_minor": 0
      },
      "text/plain": [
       "Map:   0%|          | 0/117 [00:00<?, ? examples/s]"
      ]
     },
     "metadata": {},
     "output_type": "display_data"
    },
    {
     "data": {
      "application/vnd.jupyter.widget-view+json": {
       "model_id": "",
       "version_major": 2,
       "version_minor": 0
      },
      "text/plain": [
       "Map:   0%|          | 0/250 [00:00<?, ? examples/s]"
      ]
     },
     "metadata": {},
     "output_type": "display_data"
    },
    {
     "data": {
      "application/vnd.jupyter.widget-view+json": {
       "model_id": "",
       "version_major": 2,
       "version_minor": 0
      },
      "text/plain": [
       "Saving the dataset (0/1 shards):   0%|          | 0/466 [00:00<?, ? examples/s]"
      ]
     },
     "metadata": {},
     "output_type": "display_data"
    },
    {
     "data": {
      "application/vnd.jupyter.widget-view+json": {
       "model_id": "",
       "version_major": 2,
       "version_minor": 0
      },
      "text/plain": [
       "Saving the dataset (0/1 shards):   0%|          | 0/117 [00:00<?, ? examples/s]"
      ]
     },
     "metadata": {},
     "output_type": "display_data"
    },
    {
     "data": {
      "application/vnd.jupyter.widget-view+json": {
       "model_id": "",
       "version_major": 2,
       "version_minor": 0
      },
      "text/plain": [
       "Saving the dataset (0/1 shards):   0%|          | 0/250 [00:00<?, ? examples/s]"
      ]
     },
     "metadata": {},
     "output_type": "display_data"
    }
   ],
   "source": [
    "ensemble_linker = EnsembleLinker()\n",
    "ensemble_linker.add_linker('sapbert', sapbert_linker, k=100)\n",
    "ensemble_linker.add_linker('ngram', ngram_linker, k=100)\n",
    "\n",
    "# Re-use predictions for efficiency\n",
    "# TODO: reuse_preds currently does not work with dataset dicts\n",
    "pred_ensemble = DatasetDict()\n",
    "pred_ensemble['train'] = ensemble_linker.predict_batch(ds['train'], 128, 100, reuse_preds={'sapbert' : pred_sapbert['train'], 'ngram' : pred_ngram['train']})\n",
    "pred_ensemble['validation'] = ensemble_linker.predict_batch(ds['validation'], 128, 100, reuse_preds={'sapbert' : pred_sapbert['validation'], 'ngram' : pred_ngram['validation']})\n",
    "pred_ensemble['test'] = ensemble_linker.predict_batch(ds['test'], 128, 100, reuse_preds={'sapbert' : pred_sapbert['test'], 'ngram' : pred_ngram['test']})\n",
    "\n",
    "pred_ensemble.save_to_disk(tmp_path / dict_config / 'pred_ensemble')"
   ]
  },
  {
   "cell_type": "code",
   "execution_count": 21,
   "metadata": {},
   "outputs": [
    {
     "name": "stdout",
     "output_type": "stream",
     "text": [
      "Perf@1 0.4270109235352532\n",
      "Perf@2 0.5412115193644489\n",
      "Perf@4 0.660377358490566\n",
      "Perf@8 0.7487586891757696\n",
      "Perf@16 0.7954319761668321\n",
      "Perf@32 0.8152929493545183\n",
      "Perf@64 0.8411122144985105\n"
     ]
    }
   ],
   "source": [
    "_ = evaluate_at_k(ds['validation'], pred_ensemble['validation'])"
   ]
  },
  {
   "cell_type": "markdown",
   "metadata": {},
   "source": [
    "# Reranking"
   ]
  },
  {
   "cell_type": "code",
   "execution_count": 7,
   "metadata": {},
   "outputs": [],
   "source": [
    "from xmen.reranking.cross_encoder import CrossEncoderReranker, CrossEncoderTrainingArgs"
   ]
  },
  {
   "cell_type": "code",
   "execution_count": 8,
   "metadata": {},
   "outputs": [],
   "source": [
    "K_RERANKING = 64\n",
    "CONTEXT_LENGTH = 128\n",
    "CROSS_ENC_MODEL = 'PlanTL-GOB-ES/roberta-base-biomedical-clinical-es'\n",
    "NUM_EPOCHS = 20\n",
    "SEM_TYPE=True"
   ]
  },
  {
   "cell_type": "markdown",
   "metadata": {},
   "source": [
    "## Prepare Data for Cross-Encoder Training"
   ]
  },
  {
   "cell_type": "code",
   "execution_count": 28,
   "metadata": {},
   "outputs": [],
   "source": [
    "# Dictionary used for entity representation\n",
    "dict_config_rr = 'distemist_umls_es'"
   ]
  },
  {
   "cell_type": "code",
   "execution_count": 13,
   "metadata": {},
   "outputs": [
    {
     "data": {
      "application/vnd.jupyter.widget-view+json": {
       "model_id": "",
       "version_major": 2,
       "version_minor": 0
      },
      "text/plain": [
       "Map:   0%|          | 0/466 [00:00<?, ? examples/s]"
      ]
     },
     "metadata": {},
     "output_type": "display_data"
    },
    {
     "data": {
      "application/vnd.jupyter.widget-view+json": {
       "model_id": "",
       "version_major": 2,
       "version_minor": 0
      },
      "text/plain": [
       "Map:   0%|          | 0/117 [00:00<?, ? examples/s]"
      ]
     },
     "metadata": {},
     "output_type": "display_data"
    },
    {
     "data": {
      "application/vnd.jupyter.widget-view+json": {
       "model_id": "",
       "version_major": 2,
       "version_minor": 0
      },
      "text/plain": [
       "Map:   0%|          | 0/250 [00:00<?, ? examples/s]"
      ]
     },
     "metadata": {},
     "output_type": "display_data"
    }
   ],
   "source": [
    "from xmen.linkers.util import filter_and_apply_threshold\n",
    "\n",
    "candidates = datasets.load_from_disk(tmp_path / dict_config / 'pred_ensemble')\n",
    "candidates = filter_and_apply_threshold(candidates, K_RERANKING, 0.0)"
   ]
  },
  {
   "cell_type": "code",
   "execution_count": 27,
   "metadata": {},
   "outputs": [],
   "source": [
    "from xmen.knowledge_base import load_kb\n",
    "#kb = load_kb(base_path / 'distemist_gazetteer' / 'distemist_gazetteer.jsonl')\n",
    "kb = load_kb(base_path / 'distemist' / 'merged' / f'{dict_config_rr}.jsonl')"
   ]
  },
  {
   "cell_type": "code",
   "execution_count": 36,
   "metadata": {},
   "outputs": [
    {
     "name": "stdout",
     "output_type": "stream",
     "text": [
      "Context length: 128\n"
     ]
    },
    {
     "data": {
      "application/vnd.jupyter.widget-view+json": {
       "model_id": "221ec36c47c9471db6ad01abea76c9e1",
       "version_major": 2,
       "version_minor": 0
      },
      "text/plain": [
       "  0%|          | 0/4180 [00:00<?, ?it/s]"
      ]
     },
     "metadata": {},
     "output_type": "display_data"
    },
    {
     "data": {
      "application/vnd.jupyter.widget-view+json": {
       "model_id": "2315cab2acf246358b83510f0a905fa7",
       "version_major": 2,
       "version_minor": 0
      },
      "text/plain": [
       "  0%|          | 0/4180 [00:00<?, ?it/s]"
      ]
     },
     "metadata": {},
     "output_type": "display_data"
    },
    {
     "data": {
      "application/vnd.jupyter.widget-view+json": {
       "model_id": "99e3c176e3094bce960f3bafa2c3fd67",
       "version_major": 2,
       "version_minor": 0
      },
      "text/plain": [
       "  0%|          | 0/4180 [00:00<?, ?it/s]"
      ]
     },
     "metadata": {},
     "output_type": "display_data"
    },
    {
     "data": {
      "application/vnd.jupyter.widget-view+json": {
       "model_id": "0c1a82537c8445bab8aece3ad6dd1934",
       "version_major": 2,
       "version_minor": 0
      },
      "text/plain": [
       "  0%|          | 0/956 [00:00<?, ?it/s]"
      ]
     },
     "metadata": {},
     "output_type": "display_data"
    },
    {
     "data": {
      "application/vnd.jupyter.widget-view+json": {
       "model_id": "777b853b872a429cb95196e687a9a933",
       "version_major": 2,
       "version_minor": 0
      },
      "text/plain": [
       "  0%|          | 0/956 [00:00<?, ?it/s]"
      ]
     },
     "metadata": {},
     "output_type": "display_data"
    },
    {
     "data": {
      "application/vnd.jupyter.widget-view+json": {
       "model_id": "2cace64a983e4117950ce3ed7289f07e",
       "version_major": 2,
       "version_minor": 0
      },
      "text/plain": [
       "  0%|          | 0/956 [00:00<?, ?it/s]"
      ]
     },
     "metadata": {},
     "output_type": "display_data"
    },
    {
     "data": {
      "application/vnd.jupyter.widget-view+json": {
       "model_id": "748b2e26d1a440a8a147aacd9511e601",
       "version_major": 2,
       "version_minor": 0
      },
      "text/plain": [
       "  0%|          | 0/2598 [00:00<?, ?it/s]"
      ]
     },
     "metadata": {},
     "output_type": "display_data"
    },
    {
     "data": {
      "application/vnd.jupyter.widget-view+json": {
       "model_id": "660f4fb8b03f4ecf9664f01281aec5ab",
       "version_major": 2,
       "version_minor": 0
      },
      "text/plain": [
       "  0%|          | 0/2598 [00:00<?, ?it/s]"
      ]
     },
     "metadata": {},
     "output_type": "display_data"
    },
    {
     "data": {
      "application/vnd.jupyter.widget-view+json": {
       "model_id": "db7b7ee83efa4fdf8c67eb09f8f7e892",
       "version_major": 2,
       "version_minor": 0
      },
      "text/plain": [
       "  0%|          | 0/2598 [00:00<?, ?it/s]"
      ]
     },
     "metadata": {},
     "output_type": "display_data"
    }
   ],
   "source": [
    "cross_enc_ds = CrossEncoderReranker.prepare_data(candidates, ds, kb, CONTEXT_LENGTH, encode_sem_type=SEM_TYPE)\n",
    "cross_enc_ds.save_to_disk(tmp_path / f'cross_enc_ds_{dict_config_rr}')"
   ]
  },
  {
   "cell_type": "markdown",
   "metadata": {},
   "source": [
    "## Train Cross Encoder"
   ]
  },
  {
   "cell_type": "code",
   "execution_count": 29,
   "metadata": {},
   "outputs": [
    {
     "data": {
      "text/plain": [
       "{'train': [4180 items], 'validation': [956 items], 'test': [2598 items]}"
      ]
     },
     "execution_count": 29,
     "metadata": {},
     "output_type": "execute_result"
    }
   ],
   "source": [
    "from xmen.data.indexed_dataset import IndexedDatasetDict\n",
    "cross_enc_ds = IndexedDatasetDict.load_from_disk(tmp_path / f'cross_enc_ds_{dict_config_rr}')\n",
    "cross_enc_ds"
   ]
  },
  {
   "cell_type": "code",
   "execution_count": 40,
   "metadata": {},
   "outputs": [
    {
     "data": {
      "text/plain": [
       "[<ScoredInputExample> label: 0, score: 0.6854951977729797, texts:  dado de alta a los diez días de la intervención quirúrgica.\n",
       " El estudio anatomopatológico del apéndice cecal fue informado como  [START] apéndice cecal con signos inflamatorios [END] \n",
       " \n",
       " ; disorder [TYPE] inflamación de apéndice epiploico [TITLE] inflamación de apéndice epiploico (trastorno) [SEP] Apendicitis epiploica,\n",
       " <ScoredInputExample> label: 0, score: 0.6809297800064087, texts:  dado de alta a los diez días de la intervención quirúrgica.\n",
       " El estudio anatomopatológico del apéndice cecal fue informado como  [START] apéndice cecal con signos inflamatorios [END] \n",
       " \n",
       " ; disorder [TYPE] apendicitis crónica [TITLE] inflamación crónica del apéndice [SEP] apendicitis crónica (trastorno) [SEP] Apendicitis crónica,\n",
       " <ScoredInputExample> label: 0, score: 0.6728464961051941, texts:  dado de alta a los diez días de la intervención quirúrgica.\n",
       " El estudio anatomopatológico del apéndice cecal fue informado como  [START] apéndice cecal con signos inflamatorios [END] \n",
       " \n",
       " ; disorder [TYPE] inflamación de apéndice epiploico debida a isquemia [TITLE] inflamación de apéndice epiploico debida a isquemia (trastorno),\n",
       " <ScoredInputExample> label: 0, score: 0.6708012819290161, texts:  dado de alta a los diez días de la intervención quirúrgica.\n",
       " El estudio anatomopatológico del apéndice cecal fue informado como  [START] apéndice cecal con signos inflamatorios [END] \n",
       " \n",
       " ; disorder [TYPE] apendicitis atípica [TITLE] inflamación atípica del apéndice [SEP] apendicitis atípica (trastorno),\n",
       " <ScoredInputExample> label: 0, score: 0.6643346548080444, texts:  dado de alta a los diez días de la intervención quirúrgica.\n",
       " El estudio anatomopatológico del apéndice cecal fue informado como  [START] apéndice cecal con signos inflamatorios [END] \n",
       " \n",
       " ; disorder [TYPE] apendicitis aguda [TITLE] Acute appendicitis NOS [SEP] apendicitis aguda (trastorno) [SEP] apendicitis aguda, SAI [SEP] Apendicitis aguda [SEP] apendicitis aguda, SAI (trastorno),\n",
       " <ScoredInputExample> label: 0, score: 0.6643346548080444, texts:  dado de alta a los diez días de la intervención quirúrgica.\n",
       " El estudio anatomopatológico del apéndice cecal fue informado como  [START] apéndice cecal con signos inflamatorios [END] \n",
       " \n",
       " ; disorder [TYPE] apendicitis aguda, SAI [TITLE] apendicitis aguda [SEP] Acute appendicitis NOS [SEP] apendicitis aguda (trastorno) [SEP] Apendicitis aguda [SEP] apendicitis aguda, SAI (trastorno),\n",
       " <ScoredInputExample> label: 0, score: 0.6643346548080444, texts:  dado de alta a los diez días de la intervención quirúrgica.\n",
       " El estudio anatomopatológico del apéndice cecal fue informado como  [START] apéndice cecal con signos inflamatorios [END] \n",
       " \n",
       " ; disorder [TYPE] apendicitis aguda, SAI [TITLE] apendicitis aguda [SEP] Acute appendicitis NOS [SEP] apendicitis aguda (trastorno) [SEP] Apendicitis aguda [SEP] apendicitis aguda, SAI (trastorno),\n",
       " <ScoredInputExample> label: 0, score: 0.6624893546104431, texts:  dado de alta a los diez días de la intervención quirúrgica.\n",
       " El estudio anatomopatológico del apéndice cecal fue informado como  [START] apéndice cecal con signos inflamatorios [END] \n",
       " \n",
       " ; disorder [TYPE] apendicitis aguda con peritonitis generalizada [TITLE] apendicitis aguda con peritonitis generalizada (trastorno) [SEP] Apendicitis aguda con peritonitis generalizada,\n",
       " <ScoredInputExample> label: 0, score: 0.6615241765975952, texts:  dado de alta a los diez días de la intervención quirúrgica.\n",
       " El estudio anatomopatológico del apéndice cecal fue informado como  [START] apéndice cecal con signos inflamatorios [END] \n",
       " \n",
       " ; disorder [TYPE] apendicitis aguda con absceso apendicular [TITLE] apendicitis aguda con absceso apendicular (trastorno),\n",
       " <ScoredInputExample> label: 0, score: 0.6500575542449951, texts:  dado de alta a los diez días de la intervención quirúrgica.\n",
       " El estudio anatomopatológico del apéndice cecal fue informado como  [START] apéndice cecal con signos inflamatorios [END] \n",
       " \n",
       " ; disorder [TYPE] apendicitis curada [TITLE] apendicitis curada (trastorno)]"
      ]
     },
     "execution_count": 40,
     "metadata": {},
     "output_type": "execute_result"
    }
   ],
   "source": [
    "cross_enc_ds['train'].dataset[0][0:10]"
   ]
  },
  {
   "cell_type": "code",
   "execution_count": 41,
   "metadata": {},
   "outputs": [],
   "source": [
    "train_args = CrossEncoderTrainingArgs(\n",
    "    CROSS_ENC_MODEL, \n",
    "    NUM_EPOCHS,\n",
    "    score_regularization=True,\n",
    ")"
   ]
  },
  {
   "cell_type": "code",
   "execution_count": 24,
   "metadata": {},
   "outputs": [],
   "source": [
    "rr = CrossEncoderReranker()\n",
    "output_dir = f'{tmp_path}/cross_encoder_training/'"
   ]
  },
  {
   "cell_type": "code",
   "execution_count": null,
   "metadata": {},
   "outputs": [],
   "source": [
    "rr.fit(cross_enc_ds['train'].dataset, cross_enc_ds['validation'].dataset, output_dir=output_dir, training_args=train_args)"
   ]
  },
  {
   "cell_type": "markdown",
   "metadata": {},
   "source": [
    "## Predict on Test Set"
   ]
  },
  {
   "cell_type": "code",
   "execution_count": 25,
   "metadata": {},
   "outputs": [],
   "source": [
    "rr = CrossEncoderReranker.load(output_dir, device=0)"
   ]
  },
  {
   "cell_type": "code",
   "execution_count": 47,
   "metadata": {},
   "outputs": [
    {
     "data": {
      "application/vnd.jupyter.widget-view+json": {
       "model_id": "be706743b5a147e3ae5afec4add59db9",
       "version_major": 2,
       "version_minor": 0
      },
      "text/plain": [
       "Batches:   0%|          | 0/2598 [00:00<?, ?it/s]"
      ]
     },
     "metadata": {},
     "output_type": "display_data"
    },
    {
     "data": {
      "application/vnd.jupyter.widget-view+json": {
       "model_id": "",
       "version_major": 2,
       "version_minor": 0
      },
      "text/plain": [
       "Map:   0%|          | 0/250 [00:00<?, ? examples/s]"
      ]
     },
     "metadata": {},
     "output_type": "display_data"
    }
   ],
   "source": [
    "cross_enc_pred = rr.rerank_batch(candidates['test'], cross_enc_ds['test'])"
   ]
  },
  {
   "cell_type": "code",
   "execution_count": 49,
   "metadata": {},
   "outputs": [
    {
     "name": "stdout",
     "output_type": "stream",
     "text": [
      "Perf@1 0.5886472539624032\n",
      "Perf@2 0.6634721710283819\n",
      "Perf@4 0.7121267969037965\n",
      "Perf@8 0.7419830446000737\n",
      "Perf@16 0.7736822705492076\n",
      "Perf@32 0.7869517139697751\n",
      "Perf@64 0.7976409878363435\n"
     ]
    }
   ],
   "source": [
    "_ = evaluate_at_k(ds['test'], cross_enc_pred)"
   ]
  },
  {
   "cell_type": "code",
   "execution_count": 30,
   "metadata": {},
   "outputs": [
    {
     "data": {
      "application/vnd.jupyter.widget-view+json": {
       "model_id": "9c761934e8e841e089dd485ac86a0f52",
       "version_major": 2,
       "version_minor": 0
      },
      "text/plain": [
       "Batches:   0%|          | 0/956 [00:00<?, ?it/s]"
      ]
     },
     "metadata": {},
     "output_type": "display_data"
    },
    {
     "data": {
      "application/vnd.jupyter.widget-view+json": {
       "model_id": "",
       "version_major": 2,
       "version_minor": 0
      },
      "text/plain": [
       "Map:   0%|          | 0/117 [00:00<?, ? examples/s]"
      ]
     },
     "metadata": {},
     "output_type": "display_data"
    }
   ],
   "source": [
    "cross_enc_pred_valid = rr.rerank_batch(candidates['validation'], cross_enc_ds['validation'])"
   ]
  },
  {
   "cell_type": "code",
   "execution_count": 31,
   "metadata": {},
   "outputs": [
    {
     "name": "stdout",
     "output_type": "stream",
     "text": [
      "Perf@1 0.6246276067527309\n",
      "Perf@2 0.6931479642502483\n",
      "Perf@4 0.7656405163853028\n",
      "Perf@8 0.791459781529295\n",
      "Perf@16 0.8093346573982125\n",
      "Perf@32 0.8291956305858987\n",
      "Perf@64 0.8411122144985105\n"
     ]
    }
   ],
   "source": [
    "_ = evaluate_at_k(ds['validation'], cross_enc_pred_valid)"
   ]
  },
  {
   "cell_type": "markdown",
   "metadata": {},
   "source": [
    "# Error Analysis"
   ]
  },
  {
   "cell_type": "code",
   "execution_count": 32,
   "metadata": {},
   "outputs": [],
   "source": [
    "from notebook_util import analyze\n",
    "from xmen.knowledge_base import load_kb"
   ]
  },
  {
   "cell_type": "code",
   "execution_count": 33,
   "metadata": {},
   "outputs": [],
   "source": [
    "cg_kb = load_kb(base_path / 'distemist' / 'merged' / f'{dict_config}.jsonl')"
   ]
  },
  {
   "cell_type": "code",
   "execution_count": 34,
   "metadata": {},
   "outputs": [],
   "source": [
    "error_cand = entity_linking_error_analysis(ds['validation'], candidates['validation'])\n",
    "edf_cand, _ = analyze(error_cand, cg_kb, 'eval', None)"
   ]
  },
  {
   "cell_type": "code",
   "execution_count": 35,
   "metadata": {},
   "outputs": [
    {
     "data": {
      "text/plain": [
       "error_type\n",
       "COMPLEX_ENTITY         0.116187\n",
       "ABBREV                 0.021847\n",
       "UNKNOWN_ERROR          0.010924\n",
       "WRONG_SEMANTIC_TYPE    0.009930\n",
       "Name: count, dtype: float64"
      ]
     },
     "execution_count": 35,
     "metadata": {},
     "output_type": "execute_result"
    }
   ],
   "source": [
    "# False negative (not part of top 64)\n",
    "fns_cand = edf_cand[edf_cand.pred_index == -1]\n",
    "fns_cand_counts = fns_cand.error_type.value_counts() / len(edf_cand)\n",
    "fns_cand_counts"
   ]
  },
  {
   "cell_type": "code",
   "execution_count": 36,
   "metadata": {},
   "outputs": [
    {
     "data": {
      "text/plain": [
       "error_type\n",
       "COMPLEX_ENTITY         0.173784\n",
       "WRONG_SEMANTIC_TYPE    0.119166\n",
       "SAME_SYNONYMS          0.070506\n",
       "UNKNOWN_ERROR          0.042701\n",
       "ABBREV                 0.007944\n",
       "Name: count, dtype: float64"
      ]
     },
     "execution_count": 36,
     "metadata": {},
     "output_type": "execute_result"
    }
   ],
   "source": [
    "# Ranking errors during candidate generation\n",
    "misranked_cand = edf_cand[edf_cand.pred_index > 0]\n",
    "misranked_cand_counts = misranked_cand.error_type.value_counts() / len(edf_cand)\n",
    "misranked_cand_counts"
   ]
  },
  {
   "cell_type": "code",
   "execution_count": 38,
   "metadata": {},
   "outputs": [
    {
     "data": {
      "text/plain": [
       "error_type\n",
       "COMPLEX_ENTITY         0.123138\n",
       "WRONG_SEMANTIC_TYPE    0.035750\n",
       "SAME_SYNONYMS          0.026812\n",
       "UNKNOWN_ERROR          0.023833\n",
       "ABBREV                 0.006951\n",
       "Name: count, dtype: float64"
      ]
     },
     "execution_count": 38,
     "metadata": {},
     "output_type": "execute_result"
    }
   ],
   "source": [
    "# Ranking errors after reranking\n",
    "error_rr = entity_linking_error_analysis(ds['validation'], cross_enc_pred_valid)\n",
    "edf_rr, _ = analyze(error_rr, cg_kb, 'eval', None)\n",
    "\n",
    "misranked_rr = edf_rr[edf_rr.pred_index > 0]\n",
    "misranked_rr_counts = misranked_rr.error_type.value_counts() / len(edf_rr)\n",
    "misranked_rr_counts"
   ]
  },
  {
   "cell_type": "code",
   "execution_count": 40,
   "metadata": {},
   "outputs": [
    {
     "data": {
      "image/png": "[encoded data removed]",
      "text/plain": [
       "<Figure size 800x200 with 5 Axes>"
      ]
     },
     "metadata": {},
     "output_type": "display_data"
    }
   ],
   "source": [
    "import matplotlib\n",
    "from matplotlib import pyplot as plt\n",
    "\n",
    "error_types = ['Complex Entity', 'Abbreviation', 'Wrong Type', 'Homonyms', 'Other Error']\n",
    "keys = ['COMPLEX_ENTITY', 'ABBREV', 'WRONG_SEMANTIC_TYPE', 'SAME_SYNONYMS', 'UNKNOWN_ERROR']\n",
    "counts = [fns_cand_counts, misranked_cand_counts, misranked_rr_counts]\n",
    "count_names = ['False Negatives', 'Candidate Generation Errors', 'Reranking Errors']\n",
    "\n",
    "hatches = ['', '\\\\\\\\\\\\', '///']\n",
    "colors = ['lightyellow', '#C0F5EC', '#118470']\n",
    "\n",
    "matplotlib.rcParams['hatch.linewidth'] = 0.3 \n",
    "matplotlib.rcParams.update({'font.size': 12})\n",
    "\n",
    "fig, axs = plt.subplots(1, len(keys), figsize=(8, 2))\n",
    "for i, (key, error) in enumerate(zip(keys, error_types)):\n",
    "    for j, bar in enumerate(axs[i].bar(x=count_names, height=[c.get(key, 0.0) for c in counts], color=colors, edgecolor = 'black', linewidth=0.2)):\n",
    "        bar.set_hatch(hatches[j])\n",
    "    axs[i].grid(axis='y')\n",
    "    axs[i].set_ylim([0.0, 0.2])\n",
    "    axs[i].set_xlabel(error, labelpad=10)\n",
    "    axs[i].get_xaxis().set_ticks([])\n",
    "handles = [plt.Rectangle((0,0),1,1, facecolor=color, linewidth=0.2, edgecolor='black', hatch=h) for color, h in zip(colors, hatches)]\n",
    "plt.legend(handles, count_names, loc='upper center', bbox_to_anchor=(-3.1, 1.4, 0, 0), ncol=len(counts))\n",
    "\n",
    "plt.subplots_adjust(wspace=0.7)"
   ]
  },
  {
   "cell_type": "code",
   "execution_count": null,
   "metadata": {},
   "outputs": [],
   "source": []
  }
 ],
 "metadata": {
  "kernelspec": {
   "display_name": "Poetry",
   "language": "python",
   "name": "poetry-kernel"
  },
  "language_info": {
   "codemirror_mode": {
    "name": "ipython",
    "version": 3
   },
   "file_extension": ".py",
   "mimetype": "text/x-python",
   "name": "python",
   "nbconvert_exporter": "python",
   "pygments_lexer": "ipython3",
   "version": "3.8.12"
  }
 },
 "nbformat": 4,
 "nbformat_minor": 4
}
